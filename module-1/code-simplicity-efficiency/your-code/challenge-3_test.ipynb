{
 "cells": [
  {
   "cell_type": "code",
   "execution_count": 1,
   "id": "7055feb2",
   "metadata": {},
   "outputs": [
    {
     "name": "stdout",
     "output_type": "stream",
     "text": [
      "What is the maximal length of the triangle side? Enter a number: 15\n",
      "The longest side possible is 13\n",
      "Wall time: 1.23 s\n"
     ]
    }
   ],
   "source": [
    "%%time\n",
    "import math\n",
    "def longest_hypotenuse(number):\n",
    "    solutions = [[x, y, z] for x in range(2, number) for y in range(2, number) for z in range(2, \n",
    "                            number) if math.sqrt(z ** 2) == math.sqrt(x ** 2 + y ** 2)]\n",
    "    max_length = 0\n",
    "    for solution in solutions:\n",
    "        if max_length < max(solution):\n",
    "            max_length = max(solution) \n",
    "    \n",
    "    return max_length\n",
    "\n",
    "number = int(input(\"What is the maximal length of the triangle side? Enter a number: \"))\n",
    "print(f\"The longest side possible is {longest_hypotenuse(number)}\")"
   ]
  },
  {
   "cell_type": "code",
   "execution_count": 2,
   "id": "9914f918",
   "metadata": {},
   "outputs": [
    {
     "name": "stdout",
     "output_type": "stream",
     "text": [
      "What is the maximal length of the triangle side? Enter a number: 15\n",
      "The longest side possible is 13\n",
      "Wall time: 1.52 s\n"
     ]
    }
   ],
   "source": [
    "%%time\n",
    "def my_function(X):\n",
    "    solutions = []\n",
    "    for x in range(5, X):\n",
    "        for y in range(4, X):\n",
    "            for z in range(3, X):\n",
    "                if (x*x==y*y+z*z):\n",
    "                    solutions.append([x, y, z])\n",
    "    m = 0\n",
    "    for solution in solutions:\n",
    "        if m < max(solution):\n",
    "            m = max(solution)\n",
    "    return m\n",
    "\n",
    "X = input(\"What is the maximal length of the triangle side? Enter a number: \")\n",
    "\n",
    "print(\"The longest side possible is \" + str(my_function(int(X))))"
   ]
  },
  {
   "cell_type": "code",
   "execution_count": 4,
   "id": "2a96e993",
   "metadata": {},
   "outputs": [
    {
     "name": "stdout",
     "output_type": "stream",
     "text": [
      "What is the maximal length of the triangle side? Enter a number: 15\n",
      "The longest side possible is 13\n",
      "Wall time: 1.32 s\n"
     ]
    }
   ],
   "source": [
    "%%time\n",
    "def longest_side(num):\n",
    "    max_length = 0\n",
    "    for a in range(2, num):\n",
    "        for b in range(2, num):\n",
    "            c = (a**2 + b**2)**0.5\n",
    "            if c.is_integer() and c <= num:\n",
    "                max_length = max(max_length, c)\n",
    "    return max_length\n",
    "num = int(input(\"What is the maximal length of the triangle side? Enter a number: \"))\n",
    "print(f\"The longest side possible is {longest_hypotenuse(num)}\")"
   ]
  },
  {
   "cell_type": "code",
   "execution_count": null,
   "id": "0731299c",
   "metadata": {},
   "outputs": [],
   "source": []
  }
 ],
 "metadata": {
  "kernelspec": {
   "display_name": "Python 3 (ipykernel)",
   "language": "python",
   "name": "python3"
  },
  "language_info": {
   "codemirror_mode": {
    "name": "ipython",
    "version": 3
   },
   "file_extension": ".py",
   "mimetype": "text/x-python",
   "name": "python",
   "nbconvert_exporter": "python",
   "pygments_lexer": "ipython3",
   "version": "3.9.16"
  }
 },
 "nbformat": 4,
 "nbformat_minor": 5
}
