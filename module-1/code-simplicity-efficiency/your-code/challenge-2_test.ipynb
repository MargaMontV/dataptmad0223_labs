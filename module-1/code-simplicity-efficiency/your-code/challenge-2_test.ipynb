{
 "cells": [
  {
   "cell_type": "code",
   "execution_count": 36,
   "id": "016147ba",
   "metadata": {},
   "outputs": [
    {
     "name": "stdout",
     "output_type": "stream",
     "text": [
      "Enter minimum string length: -8\n",
      "Enter maximum string length: 5\n",
      "How many random strings to generate? 3\n",
      "Incorrect min and max string lengths. Try again.\n"
     ]
    }
   ],
   "source": [
    "import random\n",
    "import string\n",
    "\n",
    "def RandomStringGenerator(min_lenght, max_lenght, string_range):\n",
    "    \n",
    "    characters = string.ascii_lowercase + string.digits\n",
    "    \n",
    "    if (min_lenght > max_lenght) or (min_lenght <= 0) or (max_lenght <= 0):\n",
    "        return \"Incorrect min and max string lengths. Try again.\"\n",
    "    elif min_lenght == max_lenght:\n",
    "        string_random = [\"\".join(random.choices(characters, k= max_lenght)) for item in range(string_range)]\n",
    "        return string_random\n",
    "    else:\n",
    "        string_random = [\"\".join(random.choices(characters, k = random.randint(min_lenght, \n",
    "                                            max_lenght))) for item in range(string_range)]\n",
    "        return string_random\n",
    "               \n",
    "\n",
    "min_lenght = int(input(\"Enter minimum string length: \"))\n",
    "max_lenght = int(input(\"Enter maximum string length: \"))\n",
    "string_range = int(input(\"How many random strings to generate? \"))\n",
    "\n",
    "print(RandomStringGenerator(min_lenght, max_lenght, string_range))"
   ]
  },
  {
   "cell_type": "code",
   "execution_count": null,
   "id": "9bae9a8b",
   "metadata": {},
   "outputs": [],
   "source": []
  },
  {
   "cell_type": "code",
   "execution_count": 23,
   "id": "f99cb938",
   "metadata": {},
   "outputs": [
    {
     "data": {
      "text/plain": [
       "['a2qop', 'd06f412', 'nhlefw5', 'xmk91pu', 'msy5shqfe9', 'qlmuaxx']"
      ]
     },
     "execution_count": 23,
     "metadata": {},
     "output_type": "execute_result"
    }
   ],
   "source": [
    "RandomStringGenerator(5, 10, 6)"
   ]
  },
  {
   "cell_type": "code",
   "execution_count": null,
   "id": "1e1cb080",
   "metadata": {},
   "outputs": [],
   "source": []
  }
 ],
 "metadata": {
  "kernelspec": {
   "display_name": "Python 3 (ipykernel)",
   "language": "python",
   "name": "python3"
  },
  "language_info": {
   "codemirror_mode": {
    "name": "ipython",
    "version": 3
   },
   "file_extension": ".py",
   "mimetype": "text/x-python",
   "name": "python",
   "nbconvert_exporter": "python",
   "pygments_lexer": "ipython3",
   "version": "3.9.16"
  }
 },
 "nbformat": 4,
 "nbformat_minor": 5
}
