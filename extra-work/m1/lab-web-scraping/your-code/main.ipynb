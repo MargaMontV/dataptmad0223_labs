{
 "cells": [
  {
   "cell_type": "markdown",
   "metadata": {},
   "source": [
    "# Web Scraping Lab\n",
    "\n",
    "You will find in this notebook some scrapy exercises to practise your scraping skills.\n",
    "\n",
    "**Tips:**\n",
    "\n",
    "- Check the response status code for each request to ensure you have obtained the intended content.\n",
    "- Print the response text in each request to understand the kind of info you are getting and its format.\n",
    "- Check for patterns in the response text to extract the data/info requested in each question.\n",
    "- Visit the urls below and take a look at their source code through Chrome DevTools. You'll need to identify the html tags, special class names, etc used in the html content you are expected to extract.\n",
    "\n",
    "**Resources**:\n",
    "- [Requests library](http://docs.python-requests.org/en/master/#the-user-guide)\n",
    "- [Beautiful Soup Doc](https://www.crummy.com/software/BeautifulSoup/bs4/doc/)\n",
    "- [Urllib](https://docs.python.org/3/library/urllib.html#module-urllib)\n",
    "- [re lib](https://docs.python.org/3/library/re.html)\n",
    "- [lxml lib](https://lxml.de/)\n",
    "- [Scrapy](https://scrapy.org/)\n",
    "- [List of HTTP status codes](https://en.wikipedia.org/wiki/List_of_HTTP_status_codes)\n",
    "- [HTML basics](http://www.simplehtmlguide.com/cheatsheet.php)\n",
    "- [CSS basics](https://www.cssbasics.com/#page_start)"
   ]
  },
  {
   "cell_type": "markdown",
   "metadata": {},
   "source": [
    "#### Below are the libraries and modules you may need. `requests`,  `BeautifulSoup` and `pandas` are already imported for you. If you prefer to use additional libraries feel free to do it."
   ]
  },
  {
   "cell_type": "code",
   "execution_count": 1,
   "metadata": {},
   "outputs": [],
   "source": [
    "import requests\n",
    "import bs4\n",
    "import pandas as pd\n",
    "import re"
   ]
  },
  {
   "cell_type": "markdown",
   "metadata": {},
   "source": [
    "#### Download, parse (using BeautifulSoup), and print the content from the Trending Developers page from GitHub:"
   ]
  },
  {
   "cell_type": "code",
   "execution_count": 2,
   "metadata": {},
   "outputs": [],
   "source": [
    "# This is the url you will scrape in this exercise\n",
    "url = 'https://github.com/trending/developers'"
   ]
  },
  {
   "cell_type": "code",
   "execution_count": 26,
   "metadata": {
    "scrolled": true
   },
   "outputs": [
    {
     "data": {
      "text/plain": [
       "{'user-agent': 'Mozilla/5.0 (Windows NT 6.1; Win64; x64; rv:47.0) Gecko/20100101 Firefox/47.0'}"
      ]
     },
     "execution_count": 26,
     "metadata": {},
     "output_type": "execute_result"
    }
   ],
   "source": [
    "headers = {'user-agent': 'Mozilla/5.0 (Windows NT 6.1; Win64; x64; rv:47.0) Gecko/20100101 Firefox/47.0'}\n",
    "headers"
   ]
  },
  {
   "cell_type": "code",
   "execution_count": 4,
   "metadata": {},
   "outputs": [
    {
     "data": {
      "text/plain": [
       "<Response [200]>"
      ]
     },
     "execution_count": 4,
     "metadata": {},
     "output_type": "execute_result"
    }
   ],
   "source": [
    "response = requests.get(url,\n",
    "                        headers=headers)\n",
    "response"
   ]
  },
  {
   "cell_type": "code",
   "execution_count": 5,
   "metadata": {},
   "outputs": [],
   "source": [
    "html = response.content\n",
    "parsed_html = bs4.BeautifulSoup(html, \"html.parser\") \n",
    "#print(parsed_html.prettify())"
   ]
  },
  {
   "cell_type": "code",
   "execution_count": null,
   "metadata": {},
   "outputs": [],
   "source": []
  },
  {
   "cell_type": "markdown",
   "metadata": {},
   "source": [
    "#### Display the names of the trending developers retrieved in the previous step.\n",
    "\n",
    "Your output should be a Python list of developer names. Each name should not contain any html tag.\n",
    "\n",
    "**Instructions:**\n",
    "\n",
    "1. Find out the html tag and class names used for the developer names. You can achieve this using Chrome DevTools.\n",
    "\n",
    "1. Use BeautifulSoup to extract all the html elements that contain the developer names.\n",
    "\n",
    "1. Use string manipulation techniques to replace whitespaces and linebreaks (i.e. `\\n`) in the *text* of each html element. Use a list to store the clean names.\n",
    "\n",
    "1. Print the list of names.\n",
    "\n",
    "Your output should look like below:\n",
    "\n",
    "```\n",
    "['trimstray (@trimstray)',\n",
    " 'joewalnes (JoeWalnes)',\n",
    " 'charlax (Charles-AxelDein)',\n",
    " 'ForrestKnight (ForrestKnight)',\n",
    " 'revery-ui (revery-ui)',\n",
    " 'alibaba (Alibaba)',\n",
    " 'Microsoft (Microsoft)',\n",
    " 'github (GitHub)',\n",
    " 'facebook (Facebook)',\n",
    " 'boazsegev (Bo)',\n",
    " 'google (Google)',\n",
    " 'cloudfetch',\n",
    " 'sindresorhus (SindreSorhus)',\n",
    " 'tensorflow',\n",
    " 'apache (TheApacheSoftwareFoundation)',\n",
    " 'DevonCrawford (DevonCrawford)',\n",
    " 'ARMmbed (ArmMbed)',\n",
    " 'vuejs (vuejs)',\n",
    " 'fastai (fast.ai)',\n",
    " 'QiShaoXuan (Qi)',\n",
    " 'joelparkerhenderson (JoelParkerHenderson)',\n",
    " 'torvalds (LinusTorvalds)',\n",
    " 'CyC2018',\n",
    " 'komeiji-satori (神楽坂覚々)',\n",
    " 'script-8']\n",
    " ```"
   ]
  },
  {
   "cell_type": "code",
   "execution_count": 6,
   "metadata": {
    "scrolled": true
   },
   "outputs": [
    {
     "name": "stdout",
     "output_type": "stream",
     "text": [
      "<class 'list'> \n",
      "\n",
      "['main', 'html', 'footer', 'circle', 'li', 'button', 'form', 'article', 'svg', 'span', 'label', 'details-menu', 'body', 'summary', 'filter-input', 'h3', 'header', 'a', 'ul', 'path', 'script', 'meta', 'details', 'template', 'input', 'include-fragment', 'img', 'nav', 'g-emoji', 'title', 'p', 'head', 'clipboard-copy', 'h1', 'h2', 'link', 'div', 'details-dialog']\n"
     ]
    }
   ],
   "source": [
    "parsed_tags = list(set([tag.name for tag in parsed_html.find_all(True)]))\n",
    "print(type(parsed_tags), '\\n')\n",
    "print(parsed_tags)"
   ]
  },
  {
   "cell_type": "code",
   "execution_count": null,
   "metadata": {
    "scrolled": true
   },
   "outputs": [],
   "source": [
    "\"\"\"\n",
    "tags = [tag.a for tag in parsed_html.find_all(\"h1\", {\"class\":[\"h3\", \"1h-condensed\"]})]\n",
    "names = [tag.string for tag in tags if tag.string != None] \n",
    "names\n",
    "\"\"\""
   ]
  },
  {
   "cell_type": "code",
   "execution_count": 9,
   "metadata": {
    "scrolled": true
   },
   "outputs": [],
   "source": [
    "trending_developers = parsed_html.find_all(\"a\", {\"data-hydro-click\" : re.compile('\"TRENDING_DEVELOPER\"')})\n",
    "#trending_developers"
   ]
  },
  {
   "cell_type": "code",
   "execution_count": 16,
   "metadata": {},
   "outputs": [
    {
     "data": {
      "text/plain": [
       "['Jerry Liu',\n",
       " 'jerryjliu',\n",
       " 'Matthias Fey',\n",
       " 'rusty1s',\n",
       " 'Sertaç Özercan',\n",
       " 'sozercan',\n",
       " 'Harrison Chase',\n",
       " 'hwchase17',\n",
       " 'Agniva De Sarker',\n",
       " 'agnivade',\n",
       " 'Yair Morgenstern',\n",
       " 'yairm210',\n",
       " 'Alessandro Ros',\n",
       " 'aler9',\n",
       " 'Ed Page',\n",
       " 'epage',\n",
       " 'Steven Tey',\n",
       " 'steven-tey',\n",
       " 'Sayak Paul',\n",
       " 'sayakpaul',\n",
       " 'No Name',\n",
       " 'dgtlmoon',\n",
       " 'No Name',\n",
       " 'atomiks',\n",
       " 'Aaron Pham',\n",
       " 'aarnphm',\n",
       " 'No Name',\n",
       " 'bmaltais',\n",
       " 'Ha Thach',\n",
       " 'hathach',\n",
       " 'Pedro Cuenca',\n",
       " 'pcuenca',\n",
       " 'Matthew Tancik',\n",
       " 'tancik',\n",
       " 'Ee Durbin',\n",
       " 'ewdurbin',\n",
       " 'hiroki osame',\n",
       " 'privatenumber',\n",
       " 'Younes Belkada',\n",
       " 'younesbelkada',\n",
       " 'Evan Wallace',\n",
       " 'evanw',\n",
       " 'Jesse Glick',\n",
       " 'jglick',\n",
       " 'Chansung Park',\n",
       " 'deep-diver',\n",
       " 'Steve Sanderson',\n",
       " 'SteveSandersonMS',\n",
       " 'Arvin Xu',\n",
       " 'arvinxx']"
      ]
     },
     "execution_count": 16,
     "metadata": {},
     "output_type": "execute_result"
    }
   ],
   "source": [
    "names = [tag.string.strip() for tag in trending_developers if tag.string != None]\n",
    "names.insert(20, \"No Name\")\n",
    "names.insert(22, \"No Name\")\n",
    "names.insert(26, \"No Name\")\n",
    "names"
   ]
  },
  {
   "cell_type": "code",
   "execution_count": 17,
   "metadata": {
    "scrolled": false
   },
   "outputs": [
    {
     "name": "stdout",
     "output_type": "stream",
     "text": [
      "['Jerry Liu', 'Matthias Fey', 'Sertaç Özercan', 'Harrison Chase', 'Agniva De Sarker', 'Yair Morgenstern', 'Alessandro Ros', 'Ed Page', 'Steven Tey', 'Sayak Paul', 'No Name', 'No Name', 'Aaron Pham', 'No Name', 'Ha Thach', 'Pedro Cuenca', 'Matthew Tancik', 'Ee Durbin', 'hiroki osame', 'Younes Belkada', 'Evan Wallace', 'Jesse Glick', 'Chansung Park', 'Steve Sanderson', 'Arvin Xu']\n",
      "['(jerryjliu)', '(rusty1s)', '(sozercan)', '(hwchase17)', '(agnivade)', '(yairm210)', '(aler9)', '(epage)', '(steven-tey)', '(sayakpaul)', '(dgtlmoon)', '(atomiks)', '(aarnphm)', '(bmaltais)', '(hathach)', '(pcuenca)', '(tancik)', '(ewdurbin)', '(privatenumber)', '(younesbelkada)', '(evanw)', '(jglick)', '(deep-diver)', '(SteveSandersonMS)', '(arvinxx)']\n"
     ]
    }
   ],
   "source": [
    "names2 = [f'{x}' for x in names if ' ' in x]\n",
    "users = [f'({x})' for x in names if ' ' not in x]\n",
    "print(names2)\n",
    "print(users)\n",
    "#print(len(names2))\n",
    "#print(len(users))"
   ]
  },
  {
   "cell_type": "code",
   "execution_count": 18,
   "metadata": {},
   "outputs": [
    {
     "data": {
      "text/html": [
       "<div>\n",
       "<style scoped>\n",
       "    .dataframe tbody tr th:only-of-type {\n",
       "        vertical-align: middle;\n",
       "    }\n",
       "\n",
       "    .dataframe tbody tr th {\n",
       "        vertical-align: top;\n",
       "    }\n",
       "\n",
       "    .dataframe thead th {\n",
       "        text-align: right;\n",
       "    }\n",
       "</style>\n",
       "<table border=\"1\" class=\"dataframe\">\n",
       "  <thead>\n",
       "    <tr style=\"text-align: right;\">\n",
       "      <th></th>\n",
       "      <th>names</th>\n",
       "    </tr>\n",
       "  </thead>\n",
       "  <tbody>\n",
       "    <tr>\n",
       "      <th>0</th>\n",
       "      <td>Jerry Liu (jerryjliu)</td>\n",
       "    </tr>\n",
       "    <tr>\n",
       "      <th>1</th>\n",
       "      <td>Matthias Fey (rusty1s)</td>\n",
       "    </tr>\n",
       "    <tr>\n",
       "      <th>2</th>\n",
       "      <td>Sertaç Özercan (sozercan)</td>\n",
       "    </tr>\n",
       "    <tr>\n",
       "      <th>3</th>\n",
       "      <td>Harrison Chase (hwchase17)</td>\n",
       "    </tr>\n",
       "    <tr>\n",
       "      <th>4</th>\n",
       "      <td>Agniva De Sarker (agnivade)</td>\n",
       "    </tr>\n",
       "    <tr>\n",
       "      <th>5</th>\n",
       "      <td>Yair Morgenstern (yairm210)</td>\n",
       "    </tr>\n",
       "    <tr>\n",
       "      <th>6</th>\n",
       "      <td>Alessandro Ros (aler9)</td>\n",
       "    </tr>\n",
       "    <tr>\n",
       "      <th>7</th>\n",
       "      <td>Ed Page (epage)</td>\n",
       "    </tr>\n",
       "    <tr>\n",
       "      <th>8</th>\n",
       "      <td>Steven Tey (steven-tey)</td>\n",
       "    </tr>\n",
       "    <tr>\n",
       "      <th>9</th>\n",
       "      <td>Sayak Paul (sayakpaul)</td>\n",
       "    </tr>\n",
       "    <tr>\n",
       "      <th>10</th>\n",
       "      <td>No Name (dgtlmoon)</td>\n",
       "    </tr>\n",
       "    <tr>\n",
       "      <th>11</th>\n",
       "      <td>No Name (atomiks)</td>\n",
       "    </tr>\n",
       "    <tr>\n",
       "      <th>12</th>\n",
       "      <td>Aaron Pham (aarnphm)</td>\n",
       "    </tr>\n",
       "    <tr>\n",
       "      <th>13</th>\n",
       "      <td>No Name (bmaltais)</td>\n",
       "    </tr>\n",
       "    <tr>\n",
       "      <th>14</th>\n",
       "      <td>Ha Thach (hathach)</td>\n",
       "    </tr>\n",
       "    <tr>\n",
       "      <th>15</th>\n",
       "      <td>Pedro Cuenca (pcuenca)</td>\n",
       "    </tr>\n",
       "    <tr>\n",
       "      <th>16</th>\n",
       "      <td>Matthew Tancik (tancik)</td>\n",
       "    </tr>\n",
       "    <tr>\n",
       "      <th>17</th>\n",
       "      <td>Ee Durbin (ewdurbin)</td>\n",
       "    </tr>\n",
       "    <tr>\n",
       "      <th>18</th>\n",
       "      <td>hiroki osame (privatenumber)</td>\n",
       "    </tr>\n",
       "    <tr>\n",
       "      <th>19</th>\n",
       "      <td>Younes Belkada (younesbelkada)</td>\n",
       "    </tr>\n",
       "    <tr>\n",
       "      <th>20</th>\n",
       "      <td>Evan Wallace (evanw)</td>\n",
       "    </tr>\n",
       "    <tr>\n",
       "      <th>21</th>\n",
       "      <td>Jesse Glick (jglick)</td>\n",
       "    </tr>\n",
       "    <tr>\n",
       "      <th>22</th>\n",
       "      <td>Chansung Park (deep-diver)</td>\n",
       "    </tr>\n",
       "    <tr>\n",
       "      <th>23</th>\n",
       "      <td>Steve Sanderson (SteveSandersonMS)</td>\n",
       "    </tr>\n",
       "    <tr>\n",
       "      <th>24</th>\n",
       "      <td>Arvin Xu (arvinxx)</td>\n",
       "    </tr>\n",
       "  </tbody>\n",
       "</table>\n",
       "</div>"
      ],
      "text/plain": [
       "                                 names\n",
       "0                Jerry Liu (jerryjliu)\n",
       "1               Matthias Fey (rusty1s)\n",
       "2            Sertaç Özercan (sozercan)\n",
       "3           Harrison Chase (hwchase17)\n",
       "4          Agniva De Sarker (agnivade)\n",
       "5          Yair Morgenstern (yairm210)\n",
       "6               Alessandro Ros (aler9)\n",
       "7                      Ed Page (epage)\n",
       "8              Steven Tey (steven-tey)\n",
       "9               Sayak Paul (sayakpaul)\n",
       "10                  No Name (dgtlmoon)\n",
       "11                   No Name (atomiks)\n",
       "12                Aaron Pham (aarnphm)\n",
       "13                  No Name (bmaltais)\n",
       "14                  Ha Thach (hathach)\n",
       "15              Pedro Cuenca (pcuenca)\n",
       "16             Matthew Tancik (tancik)\n",
       "17                Ee Durbin (ewdurbin)\n",
       "18        hiroki osame (privatenumber)\n",
       "19      Younes Belkada (younesbelkada)\n",
       "20                Evan Wallace (evanw)\n",
       "21                Jesse Glick (jglick)\n",
       "22          Chansung Park (deep-diver)\n",
       "23  Steve Sanderson (SteveSandersonMS)\n",
       "24                  Arvin Xu (arvinxx)"
      ]
     },
     "execution_count": 18,
     "metadata": {},
     "output_type": "execute_result"
    }
   ],
   "source": [
    "df1 = pd.DataFrame (names2, columns = ['names'])\n",
    "df2 = pd.DataFrame (users, columns = ['names'])\n",
    "df3 = df1 + ' ' + df2\n",
    "df3\n",
    "#final_names = df3.values.tolist()\n",
    "#final_names"
   ]
  },
  {
   "cell_type": "code",
   "execution_count": 23,
   "metadata": {},
   "outputs": [
    {
     "data": {
      "text/plain": [
       "[['Jerry Liu (jerryjliu)'],\n",
       " ['Matthias Fey (rusty1s)'],\n",
       " ['Sertaç Özercan (sozercan)'],\n",
       " ['Harrison Chase (hwchase17)'],\n",
       " ['Agniva De Sarker (agnivade)'],\n",
       " ['Yair Morgenstern (yairm210)'],\n",
       " ['Alessandro Ros (aler9)'],\n",
       " ['Ed Page (epage)'],\n",
       " ['Steven Tey (steven-tey)'],\n",
       " ['Sayak Paul (sayakpaul)'],\n",
       " ['No Name (dgtlmoon)'],\n",
       " ['No Name (atomiks)'],\n",
       " ['Aaron Pham (aarnphm)'],\n",
       " ['No Name (bmaltais)'],\n",
       " ['Ha Thach (hathach)'],\n",
       " ['Pedro Cuenca (pcuenca)'],\n",
       " ['Matthew Tancik (tancik)'],\n",
       " ['Ee Durbin (ewdurbin)'],\n",
       " ['hiroki osame (privatenumber)'],\n",
       " ['Younes Belkada (younesbelkada)'],\n",
       " ['Evan Wallace (evanw)'],\n",
       " ['Jesse Glick (jglick)'],\n",
       " ['Chansung Park (deep-diver)'],\n",
       " ['Steve Sanderson (SteveSandersonMS)'],\n",
       " ['Arvin Xu (arvinxx)']]"
      ]
     },
     "execution_count": 23,
     "metadata": {},
     "output_type": "execute_result"
    }
   ],
   "source": [
    "names3 = df3.values.tolist()\n",
    "names3"
   ]
  },
  {
   "cell_type": "code",
   "execution_count": 24,
   "metadata": {},
   "outputs": [
    {
     "data": {
      "text/plain": [
       "['Jerry Liu (jerryjliu)',\n",
       " 'Matthias Fey (rusty1s)',\n",
       " 'Sertaç Özercan (sozercan)',\n",
       " 'Harrison Chase (hwchase17)',\n",
       " 'Agniva De Sarker (agnivade)',\n",
       " 'Yair Morgenstern (yairm210)',\n",
       " 'Alessandro Ros (aler9)',\n",
       " 'Ed Page (epage)',\n",
       " 'Steven Tey (steven-tey)',\n",
       " 'Sayak Paul (sayakpaul)',\n",
       " 'No Name (dgtlmoon)',\n",
       " 'No Name (atomiks)',\n",
       " 'Aaron Pham (aarnphm)',\n",
       " 'No Name (bmaltais)',\n",
       " 'Ha Thach (hathach)',\n",
       " 'Pedro Cuenca (pcuenca)',\n",
       " 'Matthew Tancik (tancik)',\n",
       " 'Ee Durbin (ewdurbin)',\n",
       " 'hiroki osame (privatenumber)',\n",
       " 'Younes Belkada (younesbelkada)',\n",
       " 'Evan Wallace (evanw)',\n",
       " 'Jesse Glick (jglick)',\n",
       " 'Chansung Park (deep-diver)',\n",
       " 'Steve Sanderson (SteveSandersonMS)',\n",
       " 'Arvin Xu (arvinxx)']"
      ]
     },
     "execution_count": 24,
     "metadata": {},
     "output_type": "execute_result"
    }
   ],
   "source": [
    "def flatten_list(_2d_list):\n",
    "    flat_list = []\n",
    "    # Iterate through the outer list\n",
    "    for element in _2d_list:\n",
    "        if type(element) is list:\n",
    "            # If the element is of type list, iterate through the sublist\n",
    "            for item in element:\n",
    "                flat_list.append(item)\n",
    "        else:\n",
    "            flat_list.append(element)\n",
    "    return flat_list\n",
    "final_names = (flatten_list(names3))\n",
    "final_names"
   ]
  },
  {
   "cell_type": "code",
   "execution_count": null,
   "metadata": {},
   "outputs": [],
   "source": []
  },
  {
   "cell_type": "markdown",
   "metadata": {},
   "source": [
    "#### Display the trending Python repositories in GitHub.\n",
    "\n",
    "The steps to solve this problem is similar to the previous one except that you need to find out the repository names instead of developer names."
   ]
  },
  {
   "cell_type": "code",
   "execution_count": 28,
   "metadata": {},
   "outputs": [],
   "source": [
    "# This is the url you will scrape in this exercise\n",
    "url = 'https://github.com/trending/python?since=daily'"
   ]
  },
  {
   "cell_type": "code",
   "execution_count": 29,
   "metadata": {},
   "outputs": [],
   "source": [
    "headers = {'user-agent': 'Mozilla/5.0 (Windows NT 6.1; Win64; x64; rv:47.0) Gecko/20100101 Firefox/47.0'}\n",
    "headers\n",
    "response = requests.get(url, headers=headers)\n",
    "html = response.content\n",
    "parsed_html = bs4.BeautifulSoup(html, \"html.parser\") "
   ]
  },
  {
   "cell_type": "code",
   "execution_count": 54,
   "metadata": {},
   "outputs": [
    {
     "data": {
      "text/plain": [
       "[None,\n",
       " None,\n",
       " None,\n",
       " None,\n",
       " None,\n",
       " None,\n",
       " None,\n",
       " None,\n",
       " None,\n",
       " None,\n",
       " None,\n",
       " None,\n",
       " None,\n",
       " None,\n",
       " None,\n",
       " None,\n",
       " None,\n",
       " None,\n",
       " None,\n",
       " None,\n",
       " None,\n",
       " None,\n",
       " None,\n",
       " None,\n",
       " None]"
      ]
     },
     "execution_count": 54,
     "metadata": {},
     "output_type": "execute_result"
    }
   ],
   "source": [
    "#parsed_tags = list(set([tag.name for tag in parsed_html.find_all(True)]))\n",
    "#trending_repositories = parsed_html.find_all(\"a\", {\"class\": \"text-normal\"})\n",
    "trending_repositories = [tag.a for tag in parsed_html.find_all('h1',{'class':['h3', 'lh-condensed']})]\n",
    "names = [tag.string for tag in trending_repositories]\n",
    "#trending_repositories = parsed_html.find_all(\"a\", {\"data-hydro-click\" : re.compile('\"REPOSITORY\"')})\n",
    "#trending_repositories\n",
    "#names = [tag.string.strip() for tag in trending_repositories if tag.string != None]\n",
    "names"
   ]
  },
  {
   "cell_type": "markdown",
   "metadata": {},
   "source": [
    "#### Display all the image links from Walt Disney wikipedia page."
   ]
  },
  {
   "cell_type": "code",
   "execution_count": null,
   "metadata": {},
   "outputs": [],
   "source": [
    "# This is the url you will scrape in this exercise\n",
    "url = 'https://en.wikipedia.org/wiki/Walt_Disney'"
   ]
  },
  {
   "cell_type": "code",
   "execution_count": null,
   "metadata": {},
   "outputs": [],
   "source": [
    "# your code here"
   ]
  },
  {
   "cell_type": "markdown",
   "metadata": {},
   "source": [
    "#### Retrieve an arbitary Wikipedia page of \"Python\" and create a list of links on that page."
   ]
  },
  {
   "cell_type": "code",
   "execution_count": null,
   "metadata": {},
   "outputs": [],
   "source": [
    "# This is the url you will scrape in this exercise\n",
    "url ='https://en.wikipedia.org/wiki/Python' "
   ]
  },
  {
   "cell_type": "code",
   "execution_count": null,
   "metadata": {},
   "outputs": [],
   "source": [
    "# your code here"
   ]
  },
  {
   "cell_type": "markdown",
   "metadata": {},
   "source": [
    "#### Find the number of titles that have changed in the United States Code since its last release point."
   ]
  },
  {
   "cell_type": "code",
   "execution_count": null,
   "metadata": {},
   "outputs": [],
   "source": [
    "# This is the url you will scrape in this exercise\n",
    "url = 'http://uscode.house.gov/download/download.shtml'"
   ]
  },
  {
   "cell_type": "code",
   "execution_count": null,
   "metadata": {},
   "outputs": [],
   "source": [
    "# your code here"
   ]
  },
  {
   "cell_type": "markdown",
   "metadata": {},
   "source": [
    "#### Find a Python list with the top ten FBI's Most Wanted names."
   ]
  },
  {
   "cell_type": "code",
   "execution_count": null,
   "metadata": {},
   "outputs": [],
   "source": [
    "# This is the url you will scrape in this exercise\n",
    "url = 'https://www.fbi.gov/wanted/topten'"
   ]
  },
  {
   "cell_type": "code",
   "execution_count": null,
   "metadata": {},
   "outputs": [],
   "source": [
    "# your code here"
   ]
  },
  {
   "cell_type": "markdown",
   "metadata": {},
   "source": [
    "####  Display the 20 latest earthquakes info (date, time, latitude, longitude and region name) by the EMSC as a pandas dataframe."
   ]
  },
  {
   "cell_type": "code",
   "execution_count": null,
   "metadata": {},
   "outputs": [],
   "source": [
    "# This is the url you will scrape in this exercise\n",
    "url = 'https://www.emsc-csem.org/Earthquake/'"
   ]
  },
  {
   "cell_type": "code",
   "execution_count": null,
   "metadata": {},
   "outputs": [],
   "source": [
    "# your code here"
   ]
  },
  {
   "cell_type": "markdown",
   "metadata": {},
   "source": [
    "#### Count the number of tweets by a given Twitter account.\n",
    "Ask the user for the handle (@handle) of a twitter account. You will need to include a ***try/except block*** for account names not found. \n",
    "<br>***Hint:*** the program should count the number of tweets for any provided account."
   ]
  },
  {
   "cell_type": "code",
   "execution_count": null,
   "metadata": {},
   "outputs": [],
   "source": [
    "# This is the url you will scrape in this exercise \n",
    "# You will need to add the account credentials to this url\n",
    "url = 'https://twitter.com/'"
   ]
  },
  {
   "cell_type": "code",
   "execution_count": null,
   "metadata": {},
   "outputs": [],
   "source": [
    "# your code here"
   ]
  },
  {
   "cell_type": "markdown",
   "metadata": {},
   "source": [
    "#### Number of followers of a given twitter account\n",
    "Ask the user for the handle (@handle) of a twitter account. You will need to include a ***try/except block*** for account names not found. \n",
    "<br>***Hint:*** the program should count the followers for any provided account."
   ]
  },
  {
   "cell_type": "code",
   "execution_count": null,
   "metadata": {},
   "outputs": [],
   "source": [
    "# This is the url you will scrape in this exercise \n",
    "# You will need to add the account credentials to this url\n",
    "url = 'https://twitter.com/'"
   ]
  },
  {
   "cell_type": "code",
   "execution_count": null,
   "metadata": {},
   "outputs": [],
   "source": [
    "# your code here"
   ]
  },
  {
   "cell_type": "markdown",
   "metadata": {},
   "source": [
    "#### List all language names and number of related articles in the order they appear in wikipedia.org."
   ]
  },
  {
   "cell_type": "code",
   "execution_count": null,
   "metadata": {},
   "outputs": [],
   "source": [
    "# This is the url you will scrape in this exercise\n",
    "url = 'https://www.wikipedia.org/'"
   ]
  },
  {
   "cell_type": "code",
   "execution_count": null,
   "metadata": {},
   "outputs": [],
   "source": [
    "# your code here"
   ]
  },
  {
   "cell_type": "markdown",
   "metadata": {},
   "source": [
    "#### A list with the different kind of datasets available in data.gov.uk."
   ]
  },
  {
   "cell_type": "code",
   "execution_count": null,
   "metadata": {},
   "outputs": [],
   "source": [
    "# This is the url you will scrape in this exercise\n",
    "url = 'https://data.gov.uk/'"
   ]
  },
  {
   "cell_type": "code",
   "execution_count": null,
   "metadata": {},
   "outputs": [],
   "source": [
    "# your code here"
   ]
  },
  {
   "cell_type": "markdown",
   "metadata": {},
   "source": [
    "#### Display the top 10 languages by number of native speakers stored in a pandas dataframe."
   ]
  },
  {
   "cell_type": "code",
   "execution_count": null,
   "metadata": {},
   "outputs": [],
   "source": [
    "# This is the url you will scrape in this exercise\n",
    "url = 'https://en.wikipedia.org/wiki/List_of_languages_by_number_of_native_speakers'"
   ]
  },
  {
   "cell_type": "code",
   "execution_count": null,
   "metadata": {},
   "outputs": [],
   "source": [
    "# your code here"
   ]
  },
  {
   "cell_type": "markdown",
   "metadata": {},
   "source": [
    "## Bonus\n",
    "#### Scrape a certain number of tweets of a given Twitter account."
   ]
  },
  {
   "cell_type": "code",
   "execution_count": null,
   "metadata": {},
   "outputs": [],
   "source": [
    "# This is the url you will scrape in this exercise \n",
    "# You will need to add the account credentials to this url\n",
    "url = 'https://twitter.com/'"
   ]
  },
  {
   "cell_type": "code",
   "execution_count": null,
   "metadata": {},
   "outputs": [],
   "source": [
    "# your code here"
   ]
  },
  {
   "cell_type": "markdown",
   "metadata": {},
   "source": [
    "#### Display IMDB's top 250 data (movie name, initial release, director name and stars) as a pandas dataframe."
   ]
  },
  {
   "cell_type": "code",
   "execution_count": null,
   "metadata": {},
   "outputs": [],
   "source": [
    "# This is the url you will scrape in this exercise \n",
    "url = 'https://www.imdb.com/chart/top'"
   ]
  },
  {
   "cell_type": "code",
   "execution_count": null,
   "metadata": {},
   "outputs": [],
   "source": [
    "# your code here"
   ]
  },
  {
   "cell_type": "markdown",
   "metadata": {},
   "source": [
    "#### Display the movie name, year and a brief summary of the top 10 random movies (IMDB) as a pandas dataframe."
   ]
  },
  {
   "cell_type": "code",
   "execution_count": null,
   "metadata": {},
   "outputs": [],
   "source": [
    "#This is the url you will scrape in this exercise\n",
    "url = 'http://www.imdb.com/chart/top'"
   ]
  },
  {
   "cell_type": "code",
   "execution_count": null,
   "metadata": {},
   "outputs": [],
   "source": [
    "# your code here"
   ]
  },
  {
   "cell_type": "markdown",
   "metadata": {},
   "source": [
    "#### Find the live weather report (temperature, wind speed, description and weather) of a given city."
   ]
  },
  {
   "cell_type": "code",
   "execution_count": null,
   "metadata": {},
   "outputs": [],
   "source": [
    "#https://openweathermap.org/current\n",
    "city = input('Enter the city: ')\n",
    "url = 'http://api.openweathermap.org/data/2.5/weather?'+'q='+city+'&APPID=b35975e18dc93725acb092f7272cc6b8&units=metric'"
   ]
  },
  {
   "cell_type": "code",
   "execution_count": null,
   "metadata": {},
   "outputs": [],
   "source": [
    "# your code here"
   ]
  },
  {
   "cell_type": "markdown",
   "metadata": {},
   "source": [
    "#### Find the book name, price and stock availability as a pandas dataframe."
   ]
  },
  {
   "cell_type": "code",
   "execution_count": null,
   "metadata": {},
   "outputs": [],
   "source": [
    "# This is the url you will scrape in this exercise. \n",
    "# It is a fictional bookstore created to be scraped. \n",
    "url = 'http://books.toscrape.com/'"
   ]
  },
  {
   "cell_type": "code",
   "execution_count": null,
   "metadata": {},
   "outputs": [],
   "source": [
    "# your code here"
   ]
  }
 ],
 "metadata": {
  "kernelspec": {
   "display_name": "Python 3 (ipykernel)",
   "language": "python",
   "name": "python3"
  },
  "language_info": {
   "codemirror_mode": {
    "name": "ipython",
    "version": 3
   },
   "file_extension": ".py",
   "mimetype": "text/x-python",
   "name": "python",
   "nbconvert_exporter": "python",
   "pygments_lexer": "ipython3",
   "version": "3.9.16"
  }
 },
 "nbformat": 4,
 "nbformat_minor": 2
}
